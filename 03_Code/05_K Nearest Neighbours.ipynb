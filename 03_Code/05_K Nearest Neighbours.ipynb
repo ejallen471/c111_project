{
 "cells": [
  {
   "cell_type": "markdown",
   "metadata": {},
   "source": [
    "## K Nearest Neighbours"
   ]
  },
  {
   "cell_type": "markdown",
   "metadata": {},
   "source": [
    "K-Nearest Neighbours (KNN) Overview:\n",
    "\n",
    "KNN is a supervised learning algorithm that utilises the proximity and similarity. It is capable of performing both classification and regression\n",
    "\n",
    "The algorithm predicts reponses for testing data based upon its similarity with the known training data. \n",
    "\n",
    "\n",
    "Further Resources:\n",
    "- https://www.ibm.com/topics/knn"
   ]
  },
  {
   "cell_type": "code",
   "execution_count": 1,
   "metadata": {},
   "outputs": [],
   "source": [
    "import numpy as np\n",
    "import pandas as pd\n",
    "import matplotlib.pyplot as plt\n",
    "import copy\n",
    "\n",
    "from sklearn.metrics import RocCurveDisplay\n",
    "from sklearn import metrics\n",
    "\n",
    "from sklearn.metrics import accuracy_score, classification_report\n",
    "from sklearn.model_selection import train_test_split\n",
    "from sklearn.metrics import roc_curve, roc_auc_score\n",
    "\n",
    "from sklearn.model_selection import KFold\n",
    "from sklearn.preprocessing import StandardScaler\n",
    "from sklearn.pipeline import Pipeline\n",
    "from sklearn.neighbors import KNeighborsClassifier\n"
   ]
  },
  {
   "cell_type": "code",
   "execution_count": 2,
   "metadata": {},
   "outputs": [
    {
     "data": {
      "text/html": [
       "<div>\n",
       "<style scoped>\n",
       "    .dataframe tbody tr th:only-of-type {\n",
       "        vertical-align: middle;\n",
       "    }\n",
       "\n",
       "    .dataframe tbody tr th {\n",
       "        vertical-align: top;\n",
       "    }\n",
       "\n",
       "    .dataframe thead th {\n",
       "        text-align: right;\n",
       "    }\n",
       "</style>\n",
       "<table border=\"1\" class=\"dataframe\">\n",
       "  <thead>\n",
       "    <tr style=\"text-align: right;\">\n",
       "      <th></th>\n",
       "      <th>word_freq_make</th>\n",
       "      <th>word_freq_address</th>\n",
       "      <th>word_freq_all</th>\n",
       "      <th>word_freq_3d</th>\n",
       "      <th>word_freq_our</th>\n",
       "      <th>word_freq_over</th>\n",
       "      <th>word_freq_remove</th>\n",
       "      <th>word_freq_internet</th>\n",
       "      <th>word_freq_order</th>\n",
       "      <th>word_freq_mail</th>\n",
       "      <th>...</th>\n",
       "      <th>char_freq_;</th>\n",
       "      <th>char_freq_(</th>\n",
       "      <th>char_freq_[</th>\n",
       "      <th>char_freq_!</th>\n",
       "      <th>char_freq_$</th>\n",
       "      <th>char_freq_#</th>\n",
       "      <th>capital_run_length_average</th>\n",
       "      <th>capital_run_length_longest</th>\n",
       "      <th>capital_run_length_total</th>\n",
       "      <th>spam</th>\n",
       "    </tr>\n",
       "  </thead>\n",
       "  <tbody>\n",
       "    <tr>\n",
       "      <th>0</th>\n",
       "      <td>0.00</td>\n",
       "      <td>0.64</td>\n",
       "      <td>0.64</td>\n",
       "      <td>0.0</td>\n",
       "      <td>0.32</td>\n",
       "      <td>0.00</td>\n",
       "      <td>0.00</td>\n",
       "      <td>0.00</td>\n",
       "      <td>0.00</td>\n",
       "      <td>0.00</td>\n",
       "      <td>...</td>\n",
       "      <td>0.00</td>\n",
       "      <td>0.000</td>\n",
       "      <td>0.0</td>\n",
       "      <td>0.778</td>\n",
       "      <td>0.000</td>\n",
       "      <td>0.000</td>\n",
       "      <td>3.756</td>\n",
       "      <td>61</td>\n",
       "      <td>278</td>\n",
       "      <td>1</td>\n",
       "    </tr>\n",
       "    <tr>\n",
       "      <th>1</th>\n",
       "      <td>0.21</td>\n",
       "      <td>0.28</td>\n",
       "      <td>0.50</td>\n",
       "      <td>0.0</td>\n",
       "      <td>0.14</td>\n",
       "      <td>0.28</td>\n",
       "      <td>0.21</td>\n",
       "      <td>0.07</td>\n",
       "      <td>0.00</td>\n",
       "      <td>0.94</td>\n",
       "      <td>...</td>\n",
       "      <td>0.00</td>\n",
       "      <td>0.132</td>\n",
       "      <td>0.0</td>\n",
       "      <td>0.372</td>\n",
       "      <td>0.180</td>\n",
       "      <td>0.048</td>\n",
       "      <td>5.114</td>\n",
       "      <td>101</td>\n",
       "      <td>1028</td>\n",
       "      <td>1</td>\n",
       "    </tr>\n",
       "    <tr>\n",
       "      <th>2</th>\n",
       "      <td>0.06</td>\n",
       "      <td>0.00</td>\n",
       "      <td>0.71</td>\n",
       "      <td>0.0</td>\n",
       "      <td>1.23</td>\n",
       "      <td>0.19</td>\n",
       "      <td>0.19</td>\n",
       "      <td>0.12</td>\n",
       "      <td>0.64</td>\n",
       "      <td>0.25</td>\n",
       "      <td>...</td>\n",
       "      <td>0.01</td>\n",
       "      <td>0.143</td>\n",
       "      <td>0.0</td>\n",
       "      <td>0.276</td>\n",
       "      <td>0.184</td>\n",
       "      <td>0.010</td>\n",
       "      <td>9.821</td>\n",
       "      <td>485</td>\n",
       "      <td>2259</td>\n",
       "      <td>1</td>\n",
       "    </tr>\n",
       "    <tr>\n",
       "      <th>3</th>\n",
       "      <td>0.00</td>\n",
       "      <td>0.00</td>\n",
       "      <td>0.00</td>\n",
       "      <td>0.0</td>\n",
       "      <td>0.63</td>\n",
       "      <td>0.00</td>\n",
       "      <td>0.31</td>\n",
       "      <td>0.63</td>\n",
       "      <td>0.31</td>\n",
       "      <td>0.63</td>\n",
       "      <td>...</td>\n",
       "      <td>0.00</td>\n",
       "      <td>0.137</td>\n",
       "      <td>0.0</td>\n",
       "      <td>0.137</td>\n",
       "      <td>0.000</td>\n",
       "      <td>0.000</td>\n",
       "      <td>3.537</td>\n",
       "      <td>40</td>\n",
       "      <td>191</td>\n",
       "      <td>1</td>\n",
       "    </tr>\n",
       "    <tr>\n",
       "      <th>4</th>\n",
       "      <td>0.00</td>\n",
       "      <td>0.00</td>\n",
       "      <td>0.00</td>\n",
       "      <td>0.0</td>\n",
       "      <td>0.63</td>\n",
       "      <td>0.00</td>\n",
       "      <td>0.31</td>\n",
       "      <td>0.63</td>\n",
       "      <td>0.31</td>\n",
       "      <td>0.63</td>\n",
       "      <td>...</td>\n",
       "      <td>0.00</td>\n",
       "      <td>0.135</td>\n",
       "      <td>0.0</td>\n",
       "      <td>0.135</td>\n",
       "      <td>0.000</td>\n",
       "      <td>0.000</td>\n",
       "      <td>3.537</td>\n",
       "      <td>40</td>\n",
       "      <td>191</td>\n",
       "      <td>1</td>\n",
       "    </tr>\n",
       "  </tbody>\n",
       "</table>\n",
       "<p>5 rows × 58 columns</p>\n",
       "</div>"
      ],
      "text/plain": [
       "   word_freq_make  word_freq_address  word_freq_all  word_freq_3d  \\\n",
       "0            0.00               0.64           0.64           0.0   \n",
       "1            0.21               0.28           0.50           0.0   \n",
       "2            0.06               0.00           0.71           0.0   \n",
       "3            0.00               0.00           0.00           0.0   \n",
       "4            0.00               0.00           0.00           0.0   \n",
       "\n",
       "   word_freq_our  word_freq_over  word_freq_remove  word_freq_internet  \\\n",
       "0           0.32            0.00              0.00                0.00   \n",
       "1           0.14            0.28              0.21                0.07   \n",
       "2           1.23            0.19              0.19                0.12   \n",
       "3           0.63            0.00              0.31                0.63   \n",
       "4           0.63            0.00              0.31                0.63   \n",
       "\n",
       "   word_freq_order  word_freq_mail  ...  char_freq_;  char_freq_(  \\\n",
       "0             0.00            0.00  ...         0.00        0.000   \n",
       "1             0.00            0.94  ...         0.00        0.132   \n",
       "2             0.64            0.25  ...         0.01        0.143   \n",
       "3             0.31            0.63  ...         0.00        0.137   \n",
       "4             0.31            0.63  ...         0.00        0.135   \n",
       "\n",
       "   char_freq_[  char_freq_!  char_freq_$  char_freq_#  \\\n",
       "0          0.0        0.778        0.000        0.000   \n",
       "1          0.0        0.372        0.180        0.048   \n",
       "2          0.0        0.276        0.184        0.010   \n",
       "3          0.0        0.137        0.000        0.000   \n",
       "4          0.0        0.135        0.000        0.000   \n",
       "\n",
       "   capital_run_length_average  capital_run_length_longest  \\\n",
       "0                       3.756                          61   \n",
       "1                       5.114                         101   \n",
       "2                       9.821                         485   \n",
       "3                       3.537                          40   \n",
       "4                       3.537                          40   \n",
       "\n",
       "   capital_run_length_total  spam  \n",
       "0                       278     1  \n",
       "1                      1028     1  \n",
       "2                      2259     1  \n",
       "3                       191     1  \n",
       "4                       191     1  \n",
       "\n",
       "[5 rows x 58 columns]"
      ]
     },
     "metadata": {},
     "output_type": "display_data"
    }
   ],
   "source": [
    "# Store data as dataframe and display the head (from data stored in file)\n",
    "column_names = ['word_freq_make', 'word_freq_address', 'word_freq_all', 'word_freq_3d', 'word_freq_our',\n",
    "                'word_freq_over', 'word_freq_remove', 'word_freq_internet', 'word_freq_order',\n",
    "                'word_freq_mail', 'word_freq_receive', 'word_freq_will', 'word_freq_people', 'word_freq_report',\n",
    "                'word_freq_addresses', 'word_freq_free', 'word_freq_business', 'word_freq_email', 'word_freq_you',\n",
    "                'word_freq_credit', 'word_freq_your', 'word_freq_font', 'word_freq_000', 'word_freq_money', \n",
    "                'word_freq_hp', 'word_freq_hpl', 'word_freq_george','word_freq_650', 'word_freq_lab', 'word_freq_labs',\n",
    "                 'word_freq_telnet','word_freq_857', 'word_freq_data', 'word_freq_415','word_freq_85','word_freq_technology',\n",
    "                'word_freq_1999', 'word_freq_parts','word_freq_pm','word_freq_direct','word_freq_cs','word_freq_meeting',\n",
    "                'word_freq_original','word_freq_project','word_freq_re','word_freq_edu','word_freq_table','word_freq_conference',\n",
    "                \n",
    "                'char_freq_;','char_freq_(','char_freq_[','char_freq_!','char_freq_$','char_freq_#',\n",
    "                \n",
    "                'capital_run_length_average','capital_run_length_longest','capital_run_length_total','spam'\n",
    "                ]\n",
    "\n",
    "filepath = '/Users/ejallen/Desktop/Machine_Learning_Project/02_Data/spambase/spambase.data'\n",
    "df_spam = pd.read_csv(filepath, header=None, names=column_names)\n",
    "\n",
    "display(df_spam.head())"
   ]
  },
  {
   "cell_type": "code",
   "execution_count": 3,
   "metadata": {},
   "outputs": [],
   "source": [
    "from sklearn.model_selection import train_test_split\n",
    "\n",
    "# split the data into training and testing\n",
    "x = df_spam.drop('spam', axis=1)\n",
    "y = df_spam.iloc[:,-1].to_numpy().ravel()\n",
    "\n",
    "x_train, x_test, y_train, y_test = train_test_split(x, y, test_size=0.2, random_state=42)"
   ]
  },
  {
   "cell_type": "markdown",
   "metadata": {},
   "source": [
    "#### Algorithm Steps \n",
    "\n",
    "Basic Idea:\n",
    "\n",
    "The algorithm calculates the distance between a new, unlabeled instance and all instances in the training set, typically using metrics like Euclidean or Manhattan distance. It then identifies the k-nearest neighbors and, for classification, assigns the majority class label among them to the new instance.\n",
    "\n",
    "Mathematically:\n",
    "\n",
    "1. Caclulate the distance between the data point and every point in the training set. (commonly the distance is calculated by the euclidean distance or manhattan distance)\n",
    "\n",
    "$$ \\text{Distance}(X_{\\text{new}}, X_i) = \\sqrt{\\sum_{j=1}^{n}(X_{\\text{new},j} - X_{i,j})^2}$$\n",
    "\n",
    "2. Nearest Neighbours - identify k data points from the training set with the smaallest distances to the new data point \n",
    "\n",
    "3. Majority vote - assign the class label to the new data point based on the majority class among its k nearest neighbours \n",
    "\n",
    "$$ \\text{Class}(X_{\\text{new}}) = \\arg\\max_c \\sum_{i=1}^{k} \\mathbb{I}(Y_i = c) $$"
   ]
  },
  {
   "cell_type": "code",
   "execution_count": 4,
   "metadata": {},
   "outputs": [
    {
     "name": "stdout",
     "output_type": "stream",
     "text": [
      "Accuracy of Decision Tree Classifier: 0.8208469055374593\n",
      "Classification Report:\n",
      "               precision    recall  f1-score   support\n",
      "\n",
      "           0       0.83      0.86      0.85       531\n",
      "           1       0.80      0.76      0.78       390\n",
      "\n",
      "    accuracy                           0.82       921\n",
      "   macro avg       0.82      0.81      0.82       921\n",
      "weighted avg       0.82      0.82      0.82       921\n",
      "\n"
     ]
    }
   ],
   "source": [
    "\n",
    "K_neighbours = KNeighborsClassifier(n_neighbors=5, \n",
    "                                    metric='manhattan',\n",
    "                                    algorithm='ball_tree'\n",
    "                                    )\n",
    "K_neighbours.fit(x_train, y_train)\n",
    "y_pred = K_neighbours.predict(x_test)\n",
    "\n",
    "# evaulate the performance of the model\n",
    "accuracy = accuracy_score(y_test, y_pred)\n",
    "classification_report_result = classification_report(y_test, y_pred)\n",
    "\n",
    "print(f\"Accuracy of Decision Tree Classifier: {accuracy}\")\n",
    "print(\"Classification Report:\\n\", classification_report_result)"
   ]
  },
  {
   "cell_type": "markdown",
   "metadata": {},
   "source": [
    "#### Pipelines\n",
    "\n",
    "A pipeline is a way to streamline a lot of the routine processes in a machine learning workflow. \n",
    "\n",
    "- *Documentation* - https://scikit-learn.org/stable/modules/generated/sklearn.pipeline.Pipeline.html\n",
    "- *Example with PCA and logistic regression* - https://scikit-learn.org/stable/auto_examples/compose/plot_digits_pipe.html"
   ]
  },
  {
   "cell_type": "markdown",
   "metadata": {},
   "source": [
    "#### K Fold Validation\n",
    "\n",
    "we split our x_train into k different folds to train the data and repeat the training K times"
   ]
  },
  {
   "cell_type": "code",
   "execution_count": 5,
   "metadata": {},
   "outputs": [
    {
     "name": "stdout",
     "output_type": "stream",
     "text": [
      "Fold 0: Accuracy for KNN (with scaling): 0.9103260869565217\n",
      "\n",
      "Fold 1: Accuracy for KNN (with scaling): 0.904891304347826\n",
      "\n",
      "Fold 2: Accuracy for KNN (with scaling): 0.9130434782608695\n",
      "\n",
      "Fold 3: Accuracy for KNN (with scaling): 0.9130434782608695\n",
      "\n",
      "Fold 4: Accuracy for KNN (with scaling): 0.9157608695652174\n",
      "\n",
      "\n",
      "Accuracy for KNN (with scaling) on test set: 0.8979370249728555\n",
      "\n",
      "Classification Report:\n",
      "               precision    recall  f1-score   support\n",
      "\n",
      "           0       0.87      0.96      0.92       531\n",
      "           1       0.94      0.81      0.87       390\n",
      "\n",
      "    accuracy                           0.90       921\n",
      "   macro avg       0.91      0.89      0.89       921\n",
      "weighted avg       0.90      0.90      0.90       921\n",
      "\n"
     ]
    },
    {
     "name": "stderr",
     "output_type": "stream",
     "text": [
      "/Users/ejallen/anaconda3/envs/myenv/lib/python3.11/site-packages/sklearn/base.py:458: UserWarning: X has feature names, but StandardScaler was fitted without feature names\n",
      "  warnings.warn(\n"
     ]
    }
   ],
   "source": [
    "kf = KFold(n_splits=5, shuffle=True, random_state=42)\n",
    "k = 0\n",
    "best_score = 0  \n",
    "\n",
    "# Convert x_train and y_train to numpy arrays\n",
    "X_train_val = np.array(x_train)\n",
    "y_train_val = np.array(y_train)\n",
    "\n",
    "# Loop over sections of data\n",
    "for idx_train, idx_val in kf.split(X_train_val):\n",
    "    X_train_k, X_val = X_train_val[idx_train], X_train_val[idx_val]\n",
    "    y_train_k, y_val = y_train_val[idx_train], y_train_val[idx_val]\n",
    "\n",
    "    # Use the pipeline to train a new model\n",
    "    K_neighbours = KNeighborsClassifier(n_neighbors=5, \n",
    "                                    metric='manhattan',\n",
    "                                    algorithm='ball_tree'\n",
    "                                    )\n",
    "    \n",
    "    pipe = Pipeline([('scaler', StandardScaler()), ('K_neighbours', K_neighbours)])\n",
    "    pipe.fit(X_train_k, y_train_k)\n",
    "    y_pred_lr = pipe.predict(X_val)\n",
    "\n",
    "    # Calculate accuracy for the validation set\n",
    "    accuracy = accuracy_score(y_val, y_pred_lr)\n",
    "    print(f\"Fold {k}: Accuracy for KNN (with scaling): {accuracy}\\n\")\n",
    "    k += 1\n",
    "\n",
    "    if accuracy > best_score:\n",
    "        best_model = copy.deepcopy(pipe)\n",
    "        best_score = accuracy\n",
    "\n",
    "# calculate accuracy for the best model and predict y values \n",
    "X_test_scaled = best_model['scaler'].transform(x_test)\n",
    "y_pred = best_model['K_neighbours'].predict(X_test_scaled)\n",
    "test_accuracy = accuracy_score(y_test, y_pred)\n",
    "print(f\"\\nAccuracy for KNN (with scaling) on test set: {test_accuracy}\\n\")\n",
    "\n",
    "# make and print classification report\n",
    "classification_report_result = classification_report(y_test, y_pred)\n",
    "print(\"Classification Report:\\n\", classification_report_result)"
   ]
  },
  {
   "cell_type": "markdown",
   "metadata": {},
   "source": [
    "#### Learning Curve \n",
    "\n",
    "A learning curve provides a visual representation of a model's performance as it learns from training data, depicting how training and validation (or test) errors evolve with changes in the size of the training dataset. \n",
    "Analysing learning curves helps identify issues like overfitting, underfitting, and the impact of dataset size on a model's ability to generalize to new data.\n",
    "\n",
    "Bias:\n",
    "- Bias is an error introduced by approximating a real-world problem too simplistically\n",
    "- defined as the differenced between the predicted values and the true values\n",
    "- High bias models lead to underfitting the data\n",
    "\n",
    "Variance:\n",
    "- Variance is the amount that a models predictions vary for different training sets, it measures the models sensitivity to the training data\n",
    "- high variance models lead to overfitting\n",
    "\n",
    "Resources:\n",
    "- https://scikit-learn.org/stable/auto_examples/model_selection/plot_learning_curve.html\n",
    "- https://www.youtube.com/watch?v=lYAV5KNk_TY"
   ]
  },
  {
   "cell_type": "code",
   "execution_count": 20,
   "metadata": {},
   "outputs": [
    {
     "data": {
      "image/png": "[encoded data removed]",
      "text/plain": [
       "<Figure size 640x480 with 1 Axes>"
      ]
     },
     "metadata": {},
     "output_type": "display_data"
    }
   ],
   "source": [
    "from sklearn.model_selection import learning_curve\n",
    "\n",
    "def draw_learning_curves(X, y, estimator, num_trainings):\n",
    "\n",
    "    # Start the plot at 1250 training examples - from running multiple times, both curves are straight lines until roughly 1500\n",
    "    start_training_size = 1250\n",
    "    train_sizes, train_scores, test_scores = learning_curve(\n",
    "                                                            estimator=estimator,\n",
    "                                                            X=X,\n",
    "                                                            y=y,\n",
    "                                                            cv=5,\n",
    "                                                            n_jobs=1,\n",
    "                                                            train_sizes=np.linspace(start_training_size / len(X), 1.0, num_trainings),\n",
    "                                                            scoring='f1'\n",
    "                                                            )\n",
    "    \n",
    "    train_score_mean = np.mean(train_scores, axis=1)\n",
    "    test_score_mean = np.mean(test_scores, axis=1)\n",
    "\n",
    "    plt.grid()\n",
    "    plt.plot(train_sizes, train_score_mean, 'o-', color='g', label='Training')\n",
    "    plt.plot(train_sizes, test_score_mean, 'o-', color='r', label='Testing')\n",
    "    plt.title('Learning Curve - KNN')\n",
    "    plt.xlabel('Training Examples')\n",
    "    plt.ylabel('F1 Score')\n",
    "    plt.legend()\n",
    "    plt.show()\n",
    "\n",
    "# Note: This might take a while to run, especially with a large number of num_trainings\n",
    "draw_learning_curves(x, y, best_model, num_trainings=50)"
   ]
  },
  {
   "cell_type": "markdown",
   "metadata": {},
   "source": [
    "#### Confusion Matrix \n",
    "\n",
    "The confusion matrix is a matrix that summarises the performance of a machine learning model on a set of test data. \n",
    "\n",
    "- The top left represents the TP, true positive \n",
    "- The top right represents the FP - false positive \n",
    "- The bottom left represents the FN - false negative \n",
    "- The bottom right represents the TN - true negative \n",
    "\n",
    "Hence for a more accurate model, we expect the values in the FP and FN to be small"
   ]
  },
  {
   "cell_type": "code",
   "execution_count": 7,
   "metadata": {},
   "outputs": [
    {
     "data": {
      "image/png": "[encoded data removed]",
      "text/plain": [
       "<Figure size 640x480 with 2 Axes>"
      ]
     },
     "metadata": {},
     "output_type": "display_data"
    }
   ],
   "source": [
    "from sklearn.metrics import confusion_matrix\n",
    "from sklearn.metrics import ConfusionMatrixDisplay\n",
    "\n",
    "# Confusion Matrix \n",
    "confusion_matrix = confusion_matrix(y_true=y_test, y_pred=y_pred)\n",
    "conf_matrix = ConfusionMatrixDisplay(confusion_matrix)\n",
    "conf_matrix.plot()\n",
    " \n",
    "plt.xlabel('Predictions', fontsize=15)\n",
    "plt.ylabel('Actuals', fontsize=15)\n",
    "plt.title('Confusion Matrix - K Nearest Neighbours', fontsize=15)\n",
    "plt.show()"
   ]
  },
  {
   "cell_type": "markdown",
   "metadata": {},
   "source": [
    "#### ROC Curve (Receiver Operating Characteristic Curve)\n",
    "\n",
    "This a graph showing the performance of a classification model at all classification thresholds, the curve plots two parameters \n",
    "\n",
    "1. True Positive Rate (TPR)\n",
    "\n",
    "$$ TPR = \\frac{\\text{True Positives }}{\\text{ True Positives } + \\text{ False Negatives}} $$\n",
    "\n",
    "2. False Positive Rate (FPR)\n",
    "\n",
    "$$ FPR = \\frac{\\text{False Positives }}{\\text{ False Positives } + \\text{ True Negatives}} $$\n",
    "\n",
    "\n",
    "Further Resources:\n",
    "- https://developers.google.com/machine-learning/crash-course/classification/roc-and-auc"
   ]
  },
  {
   "cell_type": "code",
   "execution_count": 8,
   "metadata": {},
   "outputs": [
    {
     "name": "stderr",
     "output_type": "stream",
     "text": [
      "/Users/ejallen/anaconda3/envs/myenv/lib/python3.11/site-packages/sklearn/base.py:458: UserWarning: X has feature names, but StandardScaler was fitted without feature names\n",
      "  warnings.warn(\n"
     ]
    },
    {
     "data": {
      "image/png": "[encoded data removed]",
      "text/plain": [
       "<Figure size 640x480 with 1 Axes>"
      ]
     },
     "metadata": {},
     "output_type": "display_data"
    }
   ],
   "source": [
    "from sklearn.metrics import roc_curve, roc_auc_score\n",
    "from sklearn.metrics import RocCurveDisplay\n",
    "from sklearn import metrics\n",
    "\n",
    "metrics.RocCurveDisplay.from_estimator(estimator=best_model, X=x_test, y=y_test)\n",
    "\n",
    "# superimposed diagonal line for comparison\n",
    "x_line = np.linspace(0, 1, 100)\n",
    "plt.plot(x_line, x_line, label='Line x = y', color='purple', linestyle='dotted')\n",
    "\n",
    "plt.title('Receiver Operating Characteristic (ROC) Curve\\n')\n",
    "plt.xlabel('False Positive Rate')\n",
    "plt.ylabel('True Positive Rate')\n",
    "plt.legend()\n",
    "plt.show()"
   ]
  },
  {
   "cell_type": "markdown",
   "metadata": {},
   "source": [
    "#### Area Under the ROC Curve (AUC)\n",
    "\n",
    "The AUC measures the whole two-dimenstional area underneath the ROC curve, it ranges form 0.0 to 1.0\n",
    "The provides a measure of performance across all classification thresholds. It can be \n",
    "interpreted as the probability that the model ranks a random positive example more highly that a random negative example\n",
    "100% wrong would mean an AUC of 0.0 and 100% right would mean an AUC of 1.0. \n",
    "\n",
    "Two features of AUC are:\n",
    "\n",
    "1. Scale Invariant\n",
    "    + it measures how well predictions are ranked rather than their absolute values \n",
    "    - sometimes we need well calibrated probability outputs and the AUC will not tell us about this \n",
    "\n",
    "<p> <!-- Paragraph break --></p>\n",
    "\n",
    "2. Classification- Threshold invariant:\n",
    "    + it measures the quality of the model's predictions irrespective of what classification threshold is chosen \n",
    "    - this is not always desirable, especially in cases where there are wide disparities in the cost of false negative vs false positives. \n",
    "\n",
    "<p> <!-- Paragraph break --></p>\n",
    "\n",
    "Further Resources:\n",
    "- https://developers.google.com/machine-learning/crash-course/classification/roc-and-auc"
   ]
  },
  {
   "cell_type": "code",
   "execution_count": 9,
   "metadata": {},
   "outputs": [
    {
     "name": "stdout",
     "output_type": "stream",
     "text": [
      "The Area under the ROC Curve (AUC) is 0.9489690472741321\n"
     ]
    },
    {
     "name": "stderr",
     "output_type": "stream",
     "text": [
      "/Users/ejallen/anaconda3/envs/myenv/lib/python3.11/site-packages/sklearn/base.py:458: UserWarning: X has feature names, but StandardScaler was fitted without feature names\n",
      "  warnings.warn(\n"
     ]
    }
   ],
   "source": [
    "# Compute ROC curve and AUC\n",
    "y_probs = best_model.predict_proba(x_test)[:, 1]\n",
    "auc_roc = roc_auc_score(y_test, y_probs)\n",
    "\n",
    "print(f'The Area under the ROC Curve (AUC) is {auc_roc}')"
   ]
  },
  {
   "cell_type": "markdown",
   "metadata": {},
   "source": [
    "#### Matthews Correlation Coefficient (MCC) \n",
    "\n",
    "- The Matthews Correlation Coefficient (MCC) is a metri that takes into account all four values in the confusion matrix to \n",
    "provide a balanced measure of the classification performance \n",
    "- It ranges from -1 to 1, where 1 indicates a perfect prediction, 0 represents no better than random and -1 indicates total disagreement between prediction and observation\n",
    "- Formula is given by:\n",
    "\n",
    "$$ \\text{MCC} = \\frac{\\text{TP} \\times \\text{TN} - \\text{FP} \\times \\text{FN}}{\\sqrt{(\\text{TP} + \\text{FP}) \\times (\\text{TP} + \\text{FN}) \\times (\\text{TN} + \\text{FP}) \\times (\\text{TN} + \\text{FN})}} $$\n",
    "\n"
   ]
  },
  {
   "cell_type": "code",
   "execution_count": 10,
   "metadata": {},
   "outputs": [
    {
     "name": "stdout",
     "output_type": "stream",
     "text": [
      "the Matthews Correlation Coefficient is 0.7933309118636873\n"
     ]
    }
   ],
   "source": [
    "from sklearn.metrics import matthews_corrcoef\n",
    "\n",
    "mcc = matthews_corrcoef(y_test, y_pred)\n",
    "print(f'the Matthews Correlation Coefficient is {mcc}')"
   ]
  },
  {
   "cell_type": "markdown",
   "metadata": {},
   "source": [
    "#### Cohen's Kappa\n",
    "\n",
    "Cohen's Kappa is used to evaulate the agreement between the predicted and true class while account for the possibiilty of agreement occuring by chance. This is particularly useful for imbalanced datasets. It is calculated by:\n",
    "\n",
    "\n",
    "$$\\kappa = \\frac{P_o - P_e}{1 - P_e}$$\n",
    "\n",
    "Where:\n",
    "- $P_o$ is the observed agreement\n",
    "- $P_e$ is the expected agreement by chance.\n",
    "\n",
    "Resources:\n",
    "- https://en.wikipedia.org/wiki/Cohen%27s_kappa\n",
    "- https://thenewstack.io/cohens-kappa-what-it-is-when-to-use-it-and-how-to-avoid-its-pitfalls/"
   ]
  },
  {
   "cell_type": "code",
   "execution_count": 11,
   "metadata": {},
   "outputs": [
    {
     "name": "stdout",
     "output_type": "stream",
     "text": [
      "Cohen's Kappa: 0.7869126030067637\n"
     ]
    }
   ],
   "source": [
    "from sklearn.metrics import cohen_kappa_score\n",
    "\n",
    "kappa = cohen_kappa_score(y_test, y_pred)\n",
    "print(f\"Cohen's Kappa: {kappa}\")"
   ]
  }
 ],
 "metadata": {
  "kernelspec": {
   "display_name": "myenv",
   "language": "python",
   "name": "python3"
  },
  "language_info": {
   "codemirror_mode": {
    "name": "ipython",
    "version": 3
   },
   "file_extension": ".py",
   "mimetype": "text/x-python",
   "name": "python",
   "nbconvert_exporter": "python",
   "pygments_lexer": "ipython3",
   "version": "3.11.4"
  },
  "orig_nbformat": 4
 },
 "nbformat": 4,
 "nbformat_minor": 2
}
